{
 "cells": [
  {
   "cell_type": "code",
   "execution_count": 1,
   "id": "b82ed62e",
   "metadata": {},
   "outputs": [
    {
     "name": "stdout",
     "output_type": "stream",
     "text": [
      "Imported 0.2.04 version. Select nrows to a small number when running on huge datasets.\n",
      "output = featurewiz(dataname, target, corr_limit=0.90, verbose=2, sep=',', \n",
      "\t\theader=0, test_data='',feature_engg='', category_encoders='',\n",
      "\t\tdask_xgboost_flag=False, nrows=None, skip_sulov=False)\n",
      "Create new features via 'feature_engg' flag : ['interactions','groupby','target']\n",
      "\n"
     ]
    }
   ],
   "source": [
    "# import packages \n",
    "import pandas as pd \n",
    "import numpy as np \n",
    "import seaborn as sns\n",
    "from sklearn.model_selection import train_test_split\n",
    "from sklearn.preprocessing import StandardScaler \n",
    "from sklearn.ensemble import RandomForestClassifier \n",
    "from sklearn.linear_model import LogisticRegression \n",
    "from sklearn.metrics import accuracy_score \n",
    "from featurewiz import featurewiz\n",
    "np.random.seed(1234)"
   ]
  },
  {
   "cell_type": "code",
   "execution_count": 2,
   "id": "86a2fb41",
   "metadata": {},
   "outputs": [],
   "source": [
    "data = pd.read_csv(r\"C:\\Users\\Lenovo\\Desktop\\Brunel MPhil\\Python Data\\Combined Indicator Data.csv\")"
   ]
  },
  {
   "cell_type": "code",
   "execution_count": 3,
   "id": "aaf55e64",
   "metadata": {},
   "outputs": [],
   "source": [
    "data = data.dropna()"
   ]
  },
  {
   "cell_type": "code",
   "execution_count": 4,
   "id": "4dfcaa92",
   "metadata": {},
   "outputs": [
    {
     "data": {
      "text/html": [
       "<div>\n",
       "<style scoped>\n",
       "    .dataframe tbody tr th:only-of-type {\n",
       "        vertical-align: middle;\n",
       "    }\n",
       "\n",
       "    .dataframe tbody tr th {\n",
       "        vertical-align: top;\n",
       "    }\n",
       "\n",
       "    .dataframe thead th {\n",
       "        text-align: right;\n",
       "    }\n",
       "</style>\n",
       "<table border=\"1\" class=\"dataframe\">\n",
       "  <thead>\n",
       "    <tr style=\"text-align: right;\">\n",
       "      <th></th>\n",
       "      <th>Date</th>\n",
       "      <th>PCR</th>\n",
       "      <th>CS Fear Barometer</th>\n",
       "      <th>Bl. Sent. H/L</th>\n",
       "      <th>Bl. 52 Week H/L</th>\n",
       "      <th>AD. Dec Ratio</th>\n",
       "      <th>VIX</th>\n",
       "      <th>Close</th>\n",
       "      <th>% Change</th>\n",
       "    </tr>\n",
       "  </thead>\n",
       "  <tbody>\n",
       "    <tr>\n",
       "      <th>2015-08-01</th>\n",
       "      <td>08-01-2015</td>\n",
       "      <td>1.71</td>\n",
       "      <td>32.74</td>\n",
       "      <td>0.23</td>\n",
       "      <td>-416</td>\n",
       "      <td>-347</td>\n",
       "      <td>17.29</td>\n",
       "      <td>2062.1436</td>\n",
       "      <td>1.788957</td>\n",
       "    </tr>\n",
       "    <tr>\n",
       "      <th>2015-09-01</th>\n",
       "      <td>09-01-2015</td>\n",
       "      <td>2.04</td>\n",
       "      <td>34.68</td>\n",
       "      <td>0.20</td>\n",
       "      <td>-511</td>\n",
       "      <td>364</td>\n",
       "      <td>18.55</td>\n",
       "      <td>2044.8099</td>\n",
       "      <td>-0.840567</td>\n",
       "    </tr>\n",
       "    <tr>\n",
       "      <th>2015-12-01</th>\n",
       "      <td>12-01-2015</td>\n",
       "      <td>2.39</td>\n",
       "      <td>34.50</td>\n",
       "      <td>0.26</td>\n",
       "      <td>-331</td>\n",
       "      <td>407</td>\n",
       "      <td>17.23</td>\n",
       "      <td>2028.2638</td>\n",
       "      <td>-0.809175</td>\n",
       "    </tr>\n",
       "    <tr>\n",
       "      <th>2015-01-13</th>\n",
       "      <td>13-01-2015</td>\n",
       "      <td>1.58</td>\n",
       "      <td>33.51</td>\n",
       "      <td>0.46</td>\n",
       "      <td>-60</td>\n",
       "      <td>-149</td>\n",
       "      <td>16.96</td>\n",
       "      <td>2023.0292</td>\n",
       "      <td>-0.258083</td>\n",
       "    </tr>\n",
       "    <tr>\n",
       "      <th>2015-01-14</th>\n",
       "      <td>14-01-2015</td>\n",
       "      <td>2.00</td>\n",
       "      <td>29.92</td>\n",
       "      <td>0.38</td>\n",
       "      <td>-164</td>\n",
       "      <td>350</td>\n",
       "      <td>15.34</td>\n",
       "      <td>2011.2729</td>\n",
       "      <td>-0.581124</td>\n",
       "    </tr>\n",
       "    <tr>\n",
       "      <th>...</th>\n",
       "      <td>...</td>\n",
       "      <td>...</td>\n",
       "      <td>...</td>\n",
       "      <td>...</td>\n",
       "      <td>...</td>\n",
       "      <td>...</td>\n",
       "      <td>...</td>\n",
       "      <td>...</td>\n",
       "      <td>...</td>\n",
       "    </tr>\n",
       "    <tr>\n",
       "      <th>2022-11-23</th>\n",
       "      <td>23-11-2022</td>\n",
       "      <td>1.49</td>\n",
       "      <td>14.68</td>\n",
       "      <td>0.47</td>\n",
       "      <td>-30</td>\n",
       "      <td>214</td>\n",
       "      <td>20.42</td>\n",
       "      <td>4027.2622</td>\n",
       "      <td>0.591566</td>\n",
       "    </tr>\n",
       "    <tr>\n",
       "      <th>2022-11-25</th>\n",
       "      <td>25-11-2022</td>\n",
       "      <td>1.57</td>\n",
       "      <td>14.90</td>\n",
       "      <td>0.57</td>\n",
       "      <td>59</td>\n",
       "      <td>199</td>\n",
       "      <td>20.50</td>\n",
       "      <td>4026.1155</td>\n",
       "      <td>-0.028473</td>\n",
       "    </tr>\n",
       "    <tr>\n",
       "      <th>2022-11-28</th>\n",
       "      <td>28-11-2022</td>\n",
       "      <td>1.56</td>\n",
       "      <td>14.38</td>\n",
       "      <td>0.36</td>\n",
       "      <td>-147</td>\n",
       "      <td>-429</td>\n",
       "      <td>22.21</td>\n",
       "      <td>3963.9419</td>\n",
       "      <td>-1.544258</td>\n",
       "    </tr>\n",
       "    <tr>\n",
       "      <th>2022-11-29</th>\n",
       "      <td>29-11-2022</td>\n",
       "      <td>1.60</td>\n",
       "      <td>14.06</td>\n",
       "      <td>0.32</td>\n",
       "      <td>-190</td>\n",
       "      <td>62</td>\n",
       "      <td>21.89</td>\n",
       "      <td>3957.6259</td>\n",
       "      <td>-0.159336</td>\n",
       "    </tr>\n",
       "    <tr>\n",
       "      <th>2022-11-30</th>\n",
       "      <td>30-11-2022</td>\n",
       "      <td>1.32</td>\n",
       "      <td>15.31</td>\n",
       "      <td>0.48</td>\n",
       "      <td>-26</td>\n",
       "      <td>461</td>\n",
       "      <td>20.58</td>\n",
       "      <td>4080.1066</td>\n",
       "      <td>3.094802</td>\n",
       "    </tr>\n",
       "  </tbody>\n",
       "</table>\n",
       "<p>1974 rows × 9 columns</p>\n",
       "</div>"
      ],
      "text/plain": [
       "                  Date   PCR  CS Fear Barometer  Bl. Sent. H/L  \\\n",
       "2015-08-01  08-01-2015  1.71              32.74           0.23   \n",
       "2015-09-01  09-01-2015  2.04              34.68           0.20   \n",
       "2015-12-01  12-01-2015  2.39              34.50           0.26   \n",
       "2015-01-13  13-01-2015  1.58              33.51           0.46   \n",
       "2015-01-14  14-01-2015  2.00              29.92           0.38   \n",
       "...                ...   ...                ...            ...   \n",
       "2022-11-23  23-11-2022  1.49              14.68           0.47   \n",
       "2022-11-25  25-11-2022  1.57              14.90           0.57   \n",
       "2022-11-28  28-11-2022  1.56              14.38           0.36   \n",
       "2022-11-29  29-11-2022  1.60              14.06           0.32   \n",
       "2022-11-30  30-11-2022  1.32              15.31           0.48   \n",
       "\n",
       "            Bl. 52 Week H/L  AD. Dec Ratio    VIX      Close  % Change  \n",
       "2015-08-01             -416           -347  17.29  2062.1436  1.788957  \n",
       "2015-09-01             -511            364  18.55  2044.8099 -0.840567  \n",
       "2015-12-01             -331            407  17.23  2028.2638 -0.809175  \n",
       "2015-01-13              -60           -149  16.96  2023.0292 -0.258083  \n",
       "2015-01-14             -164            350  15.34  2011.2729 -0.581124  \n",
       "...                     ...            ...    ...        ...       ...  \n",
       "2022-11-23              -30            214  20.42  4027.2622  0.591566  \n",
       "2022-11-25               59            199  20.50  4026.1155 -0.028473  \n",
       "2022-11-28             -147           -429  22.21  3963.9419 -1.544258  \n",
       "2022-11-29             -190             62  21.89  3957.6259 -0.159336  \n",
       "2022-11-30              -26            461  20.58  4080.1066  3.094802  \n",
       "\n",
       "[1974 rows x 9 columns]"
      ]
     },
     "execution_count": 4,
     "metadata": {},
     "output_type": "execute_result"
    }
   ],
   "source": [
    "data = data.rename(columns = {\"Unnamed: 0\":\"Date\"})\n",
    "data = data.loc[::-1].reset_index(drop=True)\n",
    "data ['% Change'] = data['Close'].pct_change()*100\n",
    "data = data.set_index(pd.DatetimeIndex(data['Date'].values))\n",
    "df = data.dropna()\n",
    "df"
   ]
  },
  {
   "cell_type": "code",
   "execution_count": 5,
   "id": "059c5059",
   "metadata": {},
   "outputs": [
    {
     "data": {
      "text/html": [
       "<div>\n",
       "<style scoped>\n",
       "    .dataframe tbody tr th:only-of-type {\n",
       "        vertical-align: middle;\n",
       "    }\n",
       "\n",
       "    .dataframe tbody tr th {\n",
       "        vertical-align: top;\n",
       "    }\n",
       "\n",
       "    .dataframe thead th {\n",
       "        text-align: right;\n",
       "    }\n",
       "</style>\n",
       "<table border=\"1\" class=\"dataframe\">\n",
       "  <thead>\n",
       "    <tr style=\"text-align: right;\">\n",
       "      <th></th>\n",
       "      <th>Date</th>\n",
       "      <th>PCR</th>\n",
       "      <th>CS Fear Barometer</th>\n",
       "      <th>Bl. Sent. H/L</th>\n",
       "      <th>Bl. 52 Week H/L</th>\n",
       "      <th>AD. Dec Ratio</th>\n",
       "      <th>VIX</th>\n",
       "      <th>Close</th>\n",
       "      <th>% Change</th>\n",
       "      <th>Direction</th>\n",
       "    </tr>\n",
       "  </thead>\n",
       "  <tbody>\n",
       "    <tr>\n",
       "      <th>2015-09-01</th>\n",
       "      <td>09-01-2015</td>\n",
       "      <td>1.71</td>\n",
       "      <td>32.74</td>\n",
       "      <td>0.23</td>\n",
       "      <td>-416.0</td>\n",
       "      <td>-347.0</td>\n",
       "      <td>17.29</td>\n",
       "      <td>2044.8099</td>\n",
       "      <td>-0.840567</td>\n",
       "      <td>0</td>\n",
       "    </tr>\n",
       "    <tr>\n",
       "      <th>2015-12-01</th>\n",
       "      <td>12-01-2015</td>\n",
       "      <td>2.04</td>\n",
       "      <td>34.68</td>\n",
       "      <td>0.20</td>\n",
       "      <td>-511.0</td>\n",
       "      <td>364.0</td>\n",
       "      <td>18.55</td>\n",
       "      <td>2028.2638</td>\n",
       "      <td>-0.809175</td>\n",
       "      <td>0</td>\n",
       "    </tr>\n",
       "    <tr>\n",
       "      <th>2015-01-13</th>\n",
       "      <td>13-01-2015</td>\n",
       "      <td>2.39</td>\n",
       "      <td>34.50</td>\n",
       "      <td>0.26</td>\n",
       "      <td>-331.0</td>\n",
       "      <td>407.0</td>\n",
       "      <td>17.23</td>\n",
       "      <td>2023.0292</td>\n",
       "      <td>-0.258083</td>\n",
       "      <td>0</td>\n",
       "    </tr>\n",
       "    <tr>\n",
       "      <th>2015-01-14</th>\n",
       "      <td>14-01-2015</td>\n",
       "      <td>1.58</td>\n",
       "      <td>33.51</td>\n",
       "      <td>0.46</td>\n",
       "      <td>-60.0</td>\n",
       "      <td>-149.0</td>\n",
       "      <td>16.96</td>\n",
       "      <td>2011.2729</td>\n",
       "      <td>-0.581124</td>\n",
       "      <td>0</td>\n",
       "    </tr>\n",
       "    <tr>\n",
       "      <th>2015-01-15</th>\n",
       "      <td>15-01-2015</td>\n",
       "      <td>2.00</td>\n",
       "      <td>29.92</td>\n",
       "      <td>0.38</td>\n",
       "      <td>-164.0</td>\n",
       "      <td>350.0</td>\n",
       "      <td>15.34</td>\n",
       "      <td>1992.6703</td>\n",
       "      <td>-0.924917</td>\n",
       "      <td>1</td>\n",
       "    </tr>\n",
       "    <tr>\n",
       "      <th>...</th>\n",
       "      <td>...</td>\n",
       "      <td>...</td>\n",
       "      <td>...</td>\n",
       "      <td>...</td>\n",
       "      <td>...</td>\n",
       "      <td>...</td>\n",
       "      <td>...</td>\n",
       "      <td>...</td>\n",
       "      <td>...</td>\n",
       "      <td>...</td>\n",
       "    </tr>\n",
       "    <tr>\n",
       "      <th>2022-11-23</th>\n",
       "      <td>23-11-2022</td>\n",
       "      <td>1.38</td>\n",
       "      <td>13.80</td>\n",
       "      <td>0.39</td>\n",
       "      <td>-140.0</td>\n",
       "      <td>397.0</td>\n",
       "      <td>20.35</td>\n",
       "      <td>4027.2622</td>\n",
       "      <td>0.591566</td>\n",
       "      <td>0</td>\n",
       "    </tr>\n",
       "    <tr>\n",
       "      <th>2022-11-25</th>\n",
       "      <td>25-11-2022</td>\n",
       "      <td>1.49</td>\n",
       "      <td>14.68</td>\n",
       "      <td>0.47</td>\n",
       "      <td>-30.0</td>\n",
       "      <td>214.0</td>\n",
       "      <td>20.42</td>\n",
       "      <td>4026.1155</td>\n",
       "      <td>-0.028473</td>\n",
       "      <td>0</td>\n",
       "    </tr>\n",
       "    <tr>\n",
       "      <th>2022-11-28</th>\n",
       "      <td>28-11-2022</td>\n",
       "      <td>1.57</td>\n",
       "      <td>14.90</td>\n",
       "      <td>0.57</td>\n",
       "      <td>59.0</td>\n",
       "      <td>199.0</td>\n",
       "      <td>20.50</td>\n",
       "      <td>3963.9419</td>\n",
       "      <td>-1.544258</td>\n",
       "      <td>0</td>\n",
       "    </tr>\n",
       "    <tr>\n",
       "      <th>2022-11-29</th>\n",
       "      <td>29-11-2022</td>\n",
       "      <td>1.56</td>\n",
       "      <td>14.38</td>\n",
       "      <td>0.36</td>\n",
       "      <td>-147.0</td>\n",
       "      <td>-429.0</td>\n",
       "      <td>22.21</td>\n",
       "      <td>3957.6259</td>\n",
       "      <td>-0.159336</td>\n",
       "      <td>1</td>\n",
       "    </tr>\n",
       "    <tr>\n",
       "      <th>2022-11-30</th>\n",
       "      <td>30-11-2022</td>\n",
       "      <td>1.60</td>\n",
       "      <td>14.06</td>\n",
       "      <td>0.32</td>\n",
       "      <td>-190.0</td>\n",
       "      <td>62.0</td>\n",
       "      <td>21.89</td>\n",
       "      <td>4080.1066</td>\n",
       "      <td>3.094802</td>\n",
       "      <td>0</td>\n",
       "    </tr>\n",
       "  </tbody>\n",
       "</table>\n",
       "<p>1973 rows × 10 columns</p>\n",
       "</div>"
      ],
      "text/plain": [
       "                  Date   PCR  CS Fear Barometer  Bl. Sent. H/L  \\\n",
       "2015-09-01  09-01-2015  1.71              32.74           0.23   \n",
       "2015-12-01  12-01-2015  2.04              34.68           0.20   \n",
       "2015-01-13  13-01-2015  2.39              34.50           0.26   \n",
       "2015-01-14  14-01-2015  1.58              33.51           0.46   \n",
       "2015-01-15  15-01-2015  2.00              29.92           0.38   \n",
       "...                ...   ...                ...            ...   \n",
       "2022-11-23  23-11-2022  1.38              13.80           0.39   \n",
       "2022-11-25  25-11-2022  1.49              14.68           0.47   \n",
       "2022-11-28  28-11-2022  1.57              14.90           0.57   \n",
       "2022-11-29  29-11-2022  1.56              14.38           0.36   \n",
       "2022-11-30  30-11-2022  1.60              14.06           0.32   \n",
       "\n",
       "            Bl. 52 Week H/L  AD. Dec Ratio    VIX      Close  % Change  \\\n",
       "2015-09-01           -416.0         -347.0  17.29  2044.8099 -0.840567   \n",
       "2015-12-01           -511.0          364.0  18.55  2028.2638 -0.809175   \n",
       "2015-01-13           -331.0          407.0  17.23  2023.0292 -0.258083   \n",
       "2015-01-14            -60.0         -149.0  16.96  2011.2729 -0.581124   \n",
       "2015-01-15           -164.0          350.0  15.34  1992.6703 -0.924917   \n",
       "...                     ...            ...    ...        ...       ...   \n",
       "2022-11-23           -140.0          397.0  20.35  4027.2622  0.591566   \n",
       "2022-11-25            -30.0          214.0  20.42  4026.1155 -0.028473   \n",
       "2022-11-28             59.0          199.0  20.50  3963.9419 -1.544258   \n",
       "2022-11-29           -147.0         -429.0  22.21  3957.6259 -0.159336   \n",
       "2022-11-30           -190.0           62.0  21.89  4080.1066  3.094802   \n",
       "\n",
       "            Direction  \n",
       "2015-09-01          0  \n",
       "2015-12-01          0  \n",
       "2015-01-13          0  \n",
       "2015-01-14          0  \n",
       "2015-01-15          1  \n",
       "...               ...  \n",
       "2022-11-23          0  \n",
       "2022-11-25          0  \n",
       "2022-11-28          0  \n",
       "2022-11-29          1  \n",
       "2022-11-30          0  \n",
       "\n",
       "[1973 rows x 10 columns]"
      ]
     },
     "execution_count": 5,
     "metadata": {},
     "output_type": "execute_result"
    }
   ],
   "source": [
    "df['PCR'] = df['PCR'].shift(1) \n",
    "df['CS Fear Barometer'] = df['CS Fear Barometer'].shift(1)\n",
    "df['Bl. Sent. H/L'] = df['Bl. Sent. H/L'].shift(1)\n",
    "df['Bl. 52 Week H/L'] = df['Bl. 52 Week H/L'].shift(1)\n",
    "df['AD. Dec Ratio'] = df['AD. Dec Ratio'].shift(1)\n",
    "df['VIX'] = df['VIX'].shift(1)\n",
    "df['Direction'] = [1 if i>0 else 0 for i in df['% Change']]\n",
    "df['Direction'] = df['Direction'].shift(-1, fill_value=0)\n",
    "df = df.dropna()\n",
    "df"
   ]
  },
  {
   "cell_type": "code",
   "execution_count": 7,
   "id": "e32ce1d4",
   "metadata": {},
   "outputs": [
    {
     "data": {
      "image/png": "[encoded data removed]",
      "text/plain": [
       "<Figure size 864x720 with 2 Axes>"
      ]
     },
     "metadata": {
      "needs_background": "light"
     },
     "output_type": "display_data"
    }
   ],
   "source": [
    "df_correlations = df.corr(method='pearson')\n",
    "import seaborn as sns\n",
    "import matplotlib.pyplot as plt\n",
    "plt.figure(figsize=(12,10))\n",
    "sns.heatmap(df_correlations, annot= True, cmap=plt.cm.CMRmap_r)\n",
    "plt.show()"
   ]
  },
  {
   "cell_type": "code",
   "execution_count": 8,
   "id": "5d893a2a",
   "metadata": {},
   "outputs": [],
   "source": [
    "df = df.drop(columns ='Close')\n",
    "\n",
    "# Test variables set 1 \n",
    "X = df.copy()\n",
    "X = X.drop(columns =['Direction','Date'])\n",
    "y = df['Direction']"
   ]
  },
  {
   "cell_type": "code",
   "execution_count": 15,
   "id": "659e85b7",
   "metadata": {},
   "outputs": [
    {
     "data": {
      "text/html": [
       "<style>#sk-container-id-3 {color: black;background-color: white;}#sk-container-id-3 pre{padding: 0;}#sk-container-id-3 div.sk-toggleable {background-color: white;}#sk-container-id-3 label.sk-toggleable__label {cursor: pointer;display: block;width: 100%;margin-bottom: 0;padding: 0.3em;box-sizing: border-box;text-align: center;}#sk-container-id-3 label.sk-toggleable__label-arrow:before {content: \"▸\";float: left;margin-right: 0.25em;color: #696969;}#sk-container-id-3 label.sk-toggleable__label-arrow:hover:before {color: black;}#sk-container-id-3 div.sk-estimator:hover label.sk-toggleable__label-arrow:before {color: black;}#sk-container-id-3 div.sk-toggleable__content {max-height: 0;max-width: 0;overflow: hidden;text-align: left;background-color: #f0f8ff;}#sk-container-id-3 div.sk-toggleable__content pre {margin: 0.2em;color: black;border-radius: 0.25em;background-color: #f0f8ff;}#sk-container-id-3 input.sk-toggleable__control:checked~div.sk-toggleable__content {max-height: 200px;max-width: 100%;overflow: auto;}#sk-container-id-3 input.sk-toggleable__control:checked~label.sk-toggleable__label-arrow:before {content: \"▾\";}#sk-container-id-3 div.sk-estimator input.sk-toggleable__control:checked~label.sk-toggleable__label {background-color: #d4ebff;}#sk-container-id-3 div.sk-label input.sk-toggleable__control:checked~label.sk-toggleable__label {background-color: #d4ebff;}#sk-container-id-3 input.sk-hidden--visually {border: 0;clip: rect(1px 1px 1px 1px);clip: rect(1px, 1px, 1px, 1px);height: 1px;margin: -1px;overflow: hidden;padding: 0;position: absolute;width: 1px;}#sk-container-id-3 div.sk-estimator {font-family: monospace;background-color: #f0f8ff;border: 1px dotted black;border-radius: 0.25em;box-sizing: border-box;margin-bottom: 0.5em;}#sk-container-id-3 div.sk-estimator:hover {background-color: #d4ebff;}#sk-container-id-3 div.sk-parallel-item::after {content: \"\";width: 100%;border-bottom: 1px solid gray;flex-grow: 1;}#sk-container-id-3 div.sk-label:hover label.sk-toggleable__label {background-color: #d4ebff;}#sk-container-id-3 div.sk-serial::before {content: \"\";position: absolute;border-left: 1px solid gray;box-sizing: border-box;top: 0;bottom: 0;left: 50%;z-index: 0;}#sk-container-id-3 div.sk-serial {display: flex;flex-direction: column;align-items: center;background-color: white;padding-right: 0.2em;padding-left: 0.2em;position: relative;}#sk-container-id-3 div.sk-item {position: relative;z-index: 1;}#sk-container-id-3 div.sk-parallel {display: flex;align-items: stretch;justify-content: center;background-color: white;position: relative;}#sk-container-id-3 div.sk-item::before, #sk-container-id-3 div.sk-parallel-item::before {content: \"\";position: absolute;border-left: 1px solid gray;box-sizing: border-box;top: 0;bottom: 0;left: 50%;z-index: -1;}#sk-container-id-3 div.sk-parallel-item {display: flex;flex-direction: column;z-index: 1;position: relative;background-color: white;}#sk-container-id-3 div.sk-parallel-item:first-child::after {align-self: flex-end;width: 50%;}#sk-container-id-3 div.sk-parallel-item:last-child::after {align-self: flex-start;width: 50%;}#sk-container-id-3 div.sk-parallel-item:only-child::after {width: 0;}#sk-container-id-3 div.sk-dashed-wrapped {border: 1px dashed gray;margin: 0 0.4em 0.5em 0.4em;box-sizing: border-box;padding-bottom: 0.4em;background-color: white;}#sk-container-id-3 div.sk-label label {font-family: monospace;font-weight: bold;display: inline-block;line-height: 1.2em;}#sk-container-id-3 div.sk-label-container {text-align: center;}#sk-container-id-3 div.sk-container {/* jupyter's `normalize.less` sets `[hidden] { display: none; }` but bootstrap.min.css set `[hidden] { display: none !important; }` so we also need the `!important` here to be able to override the default hidden behavior on the sphinx rendered scikit-learn.org. See: https://github.com/scikit-learn/scikit-learn/issues/21755 */display: inline-block !important;position: relative;}#sk-container-id-3 div.sk-text-repr-fallback {display: none;}</style><div id=\"sk-container-id-3\" class=\"sk-top-container\"><div class=\"sk-text-repr-fallback\"><pre>LogisticRegression(random_state=0)</pre><b>In a Jupyter environment, please rerun this cell to show the HTML representation or trust the notebook. <br />On GitHub, the HTML representation is unable to render, please try loading this page with nbviewer.org.</b></div><div class=\"sk-container\" hidden><div class=\"sk-item\"><div class=\"sk-estimator sk-toggleable\"><input class=\"sk-toggleable__control sk-hidden--visually\" id=\"sk-estimator-id-3\" type=\"checkbox\" checked><label for=\"sk-estimator-id-3\" class=\"sk-toggleable__label sk-toggleable__label-arrow\">LogisticRegression</label><div class=\"sk-toggleable__content\"><pre>LogisticRegression(random_state=0)</pre></div></div></div></div></div>"
      ],
      "text/plain": [
       "LogisticRegression(random_state=0)"
      ]
     },
     "execution_count": 15,
     "metadata": {},
     "output_type": "execute_result"
    }
   ],
   "source": [
    "X_train, X_test, y_train, y_test = train_test_split(X,y,test_size = 0.3, random_state=1, shuffle = False)\n",
    "log_reg = LogisticRegression(random_state=0)\n",
    "log_reg.fit(X_train, y_train)"
   ]
  },
  {
   "cell_type": "code",
   "execution_count": 30,
   "id": "ef5e28fc",
   "metadata": {},
   "outputs": [],
   "source": [
    "y_predict = log_reg.predict(X_test)"
   ]
  },
  {
   "cell_type": "code",
   "execution_count": 31,
   "id": "3ce096c3",
   "metadata": {},
   "outputs": [
    {
     "name": "stdout",
     "output_type": "stream",
     "text": [
      "(1381, 7)\n",
      "(592, 7)\n",
      "(1381,)\n",
      "(592,)\n",
      "(592,)\n"
     ]
    }
   ],
   "source": [
    "print(X_train.shape)\n",
    "print(X_test.shape)\n",
    "print(y_train.shape)\n",
    "print(y_test.shape) \n",
    "print(y_predict.shape)"
   ]
  },
  {
   "cell_type": "code",
   "execution_count": 32,
   "id": "d97da772",
   "metadata": {},
   "outputs": [],
   "source": [
    "predict_proba = log_reg.predict_proba(X_train)"
   ]
  },
  {
   "cell_type": "code",
   "execution_count": 33,
   "id": "b545b525",
   "metadata": {},
   "outputs": [
    {
     "data": {
      "text/plain": [
       "0.5481535119478639"
      ]
     },
     "execution_count": 33,
     "metadata": {},
     "output_type": "execute_result"
    }
   ],
   "source": [
    "#Training Accuracy \n",
    "log_reg.score(X_train, y_train)"
   ]
  },
  {
   "cell_type": "code",
   "execution_count": 34,
   "id": "cb9d306a",
   "metadata": {},
   "outputs": [
    {
     "data": {
      "text/plain": [
       "0.5320945945945946"
      ]
     },
     "execution_count": 34,
     "metadata": {},
     "output_type": "execute_result"
    }
   ],
   "source": [
    "#Testing Accuracy\n",
    "log_reg.score(X_test, y_test)"
   ]
  },
  {
   "cell_type": "code",
   "execution_count": 36,
   "id": "317c0601",
   "metadata": {},
   "outputs": [
    {
     "data": {
      "text/plain": [
       "array([[ 87, 196],\n",
       "       [ 81, 228]], dtype=int64)"
      ]
     },
     "execution_count": 36,
     "metadata": {},
     "output_type": "execute_result"
    }
   ],
   "source": [
    "from sklearn import metrics\n",
    "cnf_matrix = metrics.confusion_matrix(y_test, y_predict)\n",
    "cnf_matrix"
   ]
  },
  {
   "cell_type": "code",
   "execution_count": 45,
   "id": "d228fa7c",
   "metadata": {},
   "outputs": [
    {
     "data": {
      "text/plain": [
       "array([[0.30742049, 0.69257951],\n",
       "       [0.26213592, 0.73786408]])"
      ]
     },
     "execution_count": 45,
     "metadata": {},
     "output_type": "execute_result"
    }
   ],
   "source": [
    "#Transforming confusion matrix\n",
    "\n",
    "cm_norm = cnf_matrix / cnf_matrix.sum(axis=1).reshape(-1,1)\n",
    "\n",
    "cm_norm"
   ]
  },
  {
   "cell_type": "code",
   "execution_count": 47,
   "id": "a28a6eab",
   "metadata": {},
   "outputs": [
    {
     "data": {
      "image/png": "[encoded data removed]",
      "text/plain": [
       "<Figure size 540x540 with 1 Axes>"
      ]
     },
     "metadata": {
      "needs_background": "light"
     },
     "output_type": "display_data"
    }
   ],
   "source": [
    "import matplotlib.pyplot as plt\n",
    "fig, ax = plt.subplots(figsize=(7.5, 7.5))\n",
    "ax.matshow(cm_norm, cmap=plt.cm.Blues, alpha=0.3)\n",
    "for i in range(cm_norm.shape[0]):\n",
    "    for j in range(cm_norm.shape[1]):\n",
    "        ax.text(x=j, y=i,s=cm_norm[i, j], va='center', ha='center', size='xx-large')\n",
    " \n",
    "plt.xlabel('Predictions', fontsize=18)\n",
    "plt.ylabel('Actuals', fontsize=18)\n",
    "plt.title('Confusion Matrix', fontsize=18)\n",
    "plt.show()"
   ]
  },
  {
   "cell_type": "code",
   "execution_count": 44,
   "id": "906bdfc5",
   "metadata": {},
   "outputs": [
    {
     "name": "stdout",
     "output_type": "stream",
     "text": [
      "              precision    recall  f1-score   support\n",
      "\n",
      "           0       0.52      0.31      0.39       283\n",
      "           1       0.54      0.74      0.62       309\n",
      "\n",
      "    accuracy                           0.53       592\n",
      "   macro avg       0.53      0.52      0.50       592\n",
      "weighted avg       0.53      0.53      0.51       592\n",
      "\n"
     ]
    }
   ],
   "source": [
    "#Classification Report\n",
    "from sklearn.metrics import classification_report\n",
    "print(classification_report(y_test,y_predict))"
   ]
  },
  {
   "cell_type": "code",
   "execution_count": 53,
   "id": "93fa0b1c",
   "metadata": {},
   "outputs": [],
   "source": [
    "#Hyperparameter Tuning\n",
    "\n",
    "C_List = np.geomspace(1e-5,1e5, num = 20)"
   ]
  },
  {
   "cell_type": "code",
   "execution_count": 54,
   "id": "e31da256",
   "metadata": {},
   "outputs": [],
   "source": [
    "#LogisticRegressionCV \n",
    "\n",
    "from sklearn.linear_model import LogisticRegressionCV\n",
    "from sklearn.model_selection import KFold \n",
    "kf = KFold(n_splits=3, random_state = 0, shuffle = True)"
   ]
  },
  {
   "cell_type": "code",
   "execution_count": 58,
   "id": "f179aefe",
   "metadata": {},
   "outputs": [
    {
     "name": "stdout",
     "output_type": "stream",
     "text": [
      "Accuracy score : 0.556842867487328\n",
      "Optimal C : [0.00428133]\n"
     ]
    }
   ],
   "source": [
    "#Logistic Regression CV \n",
    "\n",
    "Log_reg3 = LogisticRegressionCV(random_state = 15, Cs = C_List)\n",
    "Log_reg3.fit(X_train, y_train)\n",
    "print(\"Accuracy score :\", Log_reg3.score(X_train, y_train))\n",
    "\n",
    "print(\"Optimal C :\", Log_reg3.C_)"
   ]
  },
  {
   "cell_type": "code",
   "execution_count": null,
   "id": "ba047ac9",
   "metadata": {},
   "outputs": [],
   "source": []
  }
 ],
 "metadata": {
  "kernelspec": {
   "display_name": "Python 3 (ipykernel)",
   "language": "python",
   "name": "python3"
  },
  "language_info": {
   "codemirror_mode": {
    "name": "ipython",
    "version": 3
   },
   "file_extension": ".py",
   "mimetype": "text/x-python",
   "name": "python",
   "nbconvert_exporter": "python",
   "pygments_lexer": "ipython3",
   "version": "3.10.9"
  }
 },
 "nbformat": 4,
 "nbformat_minor": 5
}
